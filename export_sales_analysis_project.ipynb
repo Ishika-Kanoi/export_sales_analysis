{
 "cells": [
  {
   "cell_type": "markdown",
   "id": "cb302915",
   "metadata": {},
   "source": [
    "# Export Sales Analysis Project"
   ]
  },
  {
   "cell_type": "markdown",
   "id": "4d82d014",
   "metadata": {},
   "source": [
    "Importing Libaries"
   ]
  },
  {
   "cell_type": "code",
   "execution_count": 59,
   "id": "f8cc3fa0",
   "metadata": {},
   "outputs": [],
   "source": [
    "import pandas as pd\n",
    "import numpy as np\n",
    "import os\n",
    "import matplotlib as plt\n",
    "import seaborn as sns"
   ]
  },
  {
   "cell_type": "markdown",
   "id": "507488f4",
   "metadata": {},
   "source": [
    "reading the generated export sales Data"
   ]
  },
  {
   "cell_type": "code",
   "execution_count": 3,
   "id": "4d9092de",
   "metadata": {},
   "outputs": [],
   "source": [
    "export_data = pd.read_csv(\"ExportSales.csv\")"
   ]
  },
  {
   "cell_type": "markdown",
   "id": "2e4505e7",
   "metadata": {},
   "source": [
    "displaying the first 5 rows of the data"
   ]
  },
  {
   "cell_type": "code",
   "execution_count": 4,
   "id": "bc0378af",
   "metadata": {
    "scrolled": true
   },
   "outputs": [
    {
     "data": {
      "text/html": [
       "<div>\n",
       "<style scoped>\n",
       "    .dataframe tbody tr th:only-of-type {\n",
       "        vertical-align: middle;\n",
       "    }\n",
       "\n",
       "    .dataframe tbody tr th {\n",
       "        vertical-align: top;\n",
       "    }\n",
       "\n",
       "    .dataframe thead th {\n",
       "        text-align: right;\n",
       "    }\n",
       "</style>\n",
       "<table border=\"1\" class=\"dataframe\">\n",
       "  <thead>\n",
       "    <tr style=\"text-align: right;\">\n",
       "      <th></th>\n",
       "      <th>ID</th>\n",
       "      <th>Date</th>\n",
       "      <th>Category</th>\n",
       "      <th>Invoice Number</th>\n",
       "      <th>Product Code</th>\n",
       "      <th>Customer Code</th>\n",
       "      <th>Destenation</th>\n",
       "      <th>QTY</th>\n",
       "      <th>Total Price</th>\n",
       "    </tr>\n",
       "  </thead>\n",
       "  <tbody>\n",
       "    <tr>\n",
       "      <th>0</th>\n",
       "      <td>2529604</td>\n",
       "      <td>2019-04-28</td>\n",
       "      <td>Category5</td>\n",
       "      <td>267</td>\n",
       "      <td>30011006</td>\n",
       "      <td>612</td>\n",
       "      <td>IRQ</td>\n",
       "      <td>750</td>\n",
       "      <td>3334.8225</td>\n",
       "    </tr>\n",
       "    <tr>\n",
       "      <th>1</th>\n",
       "      <td>2529605</td>\n",
       "      <td>2019-04-29</td>\n",
       "      <td>Category5</td>\n",
       "      <td>302</td>\n",
       "      <td>30011006</td>\n",
       "      <td>514</td>\n",
       "      <td>BHR</td>\n",
       "      <td>400</td>\n",
       "      <td>3032.8240</td>\n",
       "    </tr>\n",
       "    <tr>\n",
       "      <th>2</th>\n",
       "      <td>2529606</td>\n",
       "      <td>2019-05-13</td>\n",
       "      <td>Category5</td>\n",
       "      <td>507</td>\n",
       "      <td>30011006</td>\n",
       "      <td>513</td>\n",
       "      <td>BHR</td>\n",
       "      <td>100</td>\n",
       "      <td>749.9520</td>\n",
       "    </tr>\n",
       "    <tr>\n",
       "      <th>3</th>\n",
       "      <td>2529607</td>\n",
       "      <td>2019-06-01</td>\n",
       "      <td>Category5</td>\n",
       "      <td>795</td>\n",
       "      <td>30011006</td>\n",
       "      <td>5</td>\n",
       "      <td>SYC</td>\n",
       "      <td>100</td>\n",
       "      <td>556.8170</td>\n",
       "    </tr>\n",
       "    <tr>\n",
       "      <th>4</th>\n",
       "      <td>2529608</td>\n",
       "      <td>2019-07-03</td>\n",
       "      <td>Category5</td>\n",
       "      <td>1184</td>\n",
       "      <td>30011006</td>\n",
       "      <td>560</td>\n",
       "      <td>AFG</td>\n",
       "      <td>20</td>\n",
       "      <td>39.4460</td>\n",
       "    </tr>\n",
       "  </tbody>\n",
       "</table>\n",
       "</div>"
      ],
      "text/plain": [
       "        ID        Date   Category  Invoice Number  Product Code  \\\n",
       "0  2529604  2019-04-28  Category5             267      30011006   \n",
       "1  2529605  2019-04-29  Category5             302      30011006   \n",
       "2  2529606  2019-05-13  Category5             507      30011006   \n",
       "3  2529607  2019-06-01  Category5             795      30011006   \n",
       "4  2529608  2019-07-03  Category5            1184      30011006   \n",
       "\n",
       "   Customer Code Destenation  QTY  Total Price  \n",
       "0            612         IRQ  750    3334.8225  \n",
       "1            514         BHR  400    3032.8240  \n",
       "2            513         BHR  100     749.9520  \n",
       "3              5         SYC  100     556.8170  \n",
       "4            560         AFG   20      39.4460  "
      ]
     },
     "execution_count": 4,
     "metadata": {},
     "output_type": "execute_result"
    }
   ],
   "source": [
    "export_data.head()"
   ]
  },
  {
   "cell_type": "markdown",
   "id": "1d65baaa",
   "metadata": {},
   "source": [
    "Looking at the columns in the Data"
   ]
  },
  {
   "cell_type": "code",
   "execution_count": 5,
   "id": "a16d1088",
   "metadata": {},
   "outputs": [
    {
     "data": {
      "text/plain": [
       "Index(['ID', 'Date', 'Category', 'Invoice Number', 'Product Code',\n",
       "       'Customer Code', 'Destenation', 'QTY', 'Total Price'],\n",
       "      dtype='object')"
      ]
     },
     "execution_count": 5,
     "metadata": {},
     "output_type": "execute_result"
    }
   ],
   "source": [
    "export_data.columns"
   ]
  },
  {
   "cell_type": "markdown",
   "id": "557b19c2",
   "metadata": {},
   "source": [
    "### We observed that the data is a Time Series data, So it is best to make the \"Date\" column the index of the data"
   ]
  },
  {
   "cell_type": "code",
   "execution_count": 6,
   "id": "1aa31dac",
   "metadata": {},
   "outputs": [],
   "source": [
    "export_data = pd.read_csv(\"ExportSales.csv\", index_col = 1)"
   ]
  },
  {
   "cell_type": "code",
   "execution_count": 7,
   "id": "e67e02db",
   "metadata": {},
   "outputs": [
    {
     "data": {
      "text/html": [
       "<div>\n",
       "<style scoped>\n",
       "    .dataframe tbody tr th:only-of-type {\n",
       "        vertical-align: middle;\n",
       "    }\n",
       "\n",
       "    .dataframe tbody tr th {\n",
       "        vertical-align: top;\n",
       "    }\n",
       "\n",
       "    .dataframe thead th {\n",
       "        text-align: right;\n",
       "    }\n",
       "</style>\n",
       "<table border=\"1\" class=\"dataframe\">\n",
       "  <thead>\n",
       "    <tr style=\"text-align: right;\">\n",
       "      <th></th>\n",
       "      <th>ID</th>\n",
       "      <th>Category</th>\n",
       "      <th>Invoice Number</th>\n",
       "      <th>Product Code</th>\n",
       "      <th>Customer Code</th>\n",
       "      <th>Destenation</th>\n",
       "      <th>QTY</th>\n",
       "      <th>Total Price</th>\n",
       "    </tr>\n",
       "    <tr>\n",
       "      <th>Date</th>\n",
       "      <th></th>\n",
       "      <th></th>\n",
       "      <th></th>\n",
       "      <th></th>\n",
       "      <th></th>\n",
       "      <th></th>\n",
       "      <th></th>\n",
       "      <th></th>\n",
       "    </tr>\n",
       "  </thead>\n",
       "  <tbody>\n",
       "    <tr>\n",
       "      <th>2019-04-28</th>\n",
       "      <td>2529604</td>\n",
       "      <td>Category5</td>\n",
       "      <td>267</td>\n",
       "      <td>30011006</td>\n",
       "      <td>612</td>\n",
       "      <td>IRQ</td>\n",
       "      <td>750</td>\n",
       "      <td>3334.8225</td>\n",
       "    </tr>\n",
       "    <tr>\n",
       "      <th>2019-04-29</th>\n",
       "      <td>2529605</td>\n",
       "      <td>Category5</td>\n",
       "      <td>302</td>\n",
       "      <td>30011006</td>\n",
       "      <td>514</td>\n",
       "      <td>BHR</td>\n",
       "      <td>400</td>\n",
       "      <td>3032.8240</td>\n",
       "    </tr>\n",
       "    <tr>\n",
       "      <th>2019-05-13</th>\n",
       "      <td>2529606</td>\n",
       "      <td>Category5</td>\n",
       "      <td>507</td>\n",
       "      <td>30011006</td>\n",
       "      <td>513</td>\n",
       "      <td>BHR</td>\n",
       "      <td>100</td>\n",
       "      <td>749.9520</td>\n",
       "    </tr>\n",
       "    <tr>\n",
       "      <th>2019-06-01</th>\n",
       "      <td>2529607</td>\n",
       "      <td>Category5</td>\n",
       "      <td>795</td>\n",
       "      <td>30011006</td>\n",
       "      <td>5</td>\n",
       "      <td>SYC</td>\n",
       "      <td>100</td>\n",
       "      <td>556.8170</td>\n",
       "    </tr>\n",
       "    <tr>\n",
       "      <th>2019-07-03</th>\n",
       "      <td>2529608</td>\n",
       "      <td>Category5</td>\n",
       "      <td>1184</td>\n",
       "      <td>30011006</td>\n",
       "      <td>560</td>\n",
       "      <td>AFG</td>\n",
       "      <td>20</td>\n",
       "      <td>39.4460</td>\n",
       "    </tr>\n",
       "  </tbody>\n",
       "</table>\n",
       "</div>"
      ],
      "text/plain": [
       "                 ID   Category  Invoice Number  Product Code  Customer Code  \\\n",
       "Date                                                                          \n",
       "2019-04-28  2529604  Category5             267      30011006            612   \n",
       "2019-04-29  2529605  Category5             302      30011006            514   \n",
       "2019-05-13  2529606  Category5             507      30011006            513   \n",
       "2019-06-01  2529607  Category5             795      30011006              5   \n",
       "2019-07-03  2529608  Category5            1184      30011006            560   \n",
       "\n",
       "           Destenation  QTY  Total Price  \n",
       "Date                                      \n",
       "2019-04-28         IRQ  750    3334.8225  \n",
       "2019-04-29         BHR  400    3032.8240  \n",
       "2019-05-13         BHR  100     749.9520  \n",
       "2019-06-01         SYC  100     556.8170  \n",
       "2019-07-03         AFG   20      39.4460  "
      ]
     },
     "execution_count": 7,
     "metadata": {},
     "output_type": "execute_result"
    }
   ],
   "source": [
    "export_data.head()"
   ]
  },
  {
   "cell_type": "markdown",
   "id": "8de20912",
   "metadata": {},
   "source": [
    "We can see that Our Date column is now the index of the data"
   ]
  },
  {
   "cell_type": "markdown",
   "id": "2e351544",
   "metadata": {},
   "source": [
    "Now we preview the information on the data"
   ]
  },
  {
   "cell_type": "code",
   "execution_count": 8,
   "id": "61d20585",
   "metadata": {},
   "outputs": [
    {
     "name": "stdout",
     "output_type": "stream",
     "text": [
      "<class 'pandas.core.frame.DataFrame'>\n",
      "Index: 7811 entries, 2019-04-28 to 2022-09-19\n",
      "Data columns (total 8 columns):\n",
      " #   Column          Non-Null Count  Dtype  \n",
      "---  ------          --------------  -----  \n",
      " 0   ID              7811 non-null   int64  \n",
      " 1   Category        7811 non-null   object \n",
      " 2   Invoice Number  7811 non-null   int64  \n",
      " 3   Product Code    7811 non-null   int64  \n",
      " 4   Customer Code   7811 non-null   int64  \n",
      " 5   Destenation     7701 non-null   object \n",
      " 6   QTY             7811 non-null   int64  \n",
      " 7   Total Price     7811 non-null   float64\n",
      "dtypes: float64(1), int64(5), object(2)\n",
      "memory usage: 549.2+ KB\n"
     ]
    }
   ],
   "source": [
    "export_data.info()"
   ]
  },
  {
   "cell_type": "markdown",
   "id": "022dea54",
   "metadata": {},
   "source": [
    "There is a Null Values in the data for the Destination, Morealso, We have Different Data types in the data such as\n",
    "* Integers\n",
    "* Object or Strings\n",
    "* Floats"
   ]
  },
  {
   "cell_type": "code",
   "execution_count": 9,
   "id": "53b81e0c",
   "metadata": {
    "scrolled": true
   },
   "outputs": [
    {
     "data": {
      "text/plain": [
       "Index(['ID', 'Category', 'Invoice Number', 'Product Code', 'Customer Code',\n",
       "       'Destenation', 'QTY', 'Total Price'],\n",
       "      dtype='object')"
      ]
     },
     "execution_count": 9,
     "metadata": {},
     "output_type": "execute_result"
    }
   ],
   "source": [
    "export_data.columns"
   ]
  },
  {
   "cell_type": "markdown",
   "id": "1f47595a",
   "metadata": {},
   "source": [
    "    * ID\n",
    "    The ID columns represent the identity number of the sales. The number are unique to each sales\n",
    "    * Category\n",
    "    The Category columns represent the type or category the sales belongs to\n",
    "    * Invoice Number\n",
    "    Also a unique number of the transaction\n",
    "    * Product Code\n",
    "    The The identity of the product purchased\n",
    "    * Customer Code\n",
    "    More Like the Identity of the Customer\n",
    "    * Destination not destenation [needs cleaning]\n",
    "    Where the product is destined to\n",
    "    * QTY == Quantity\n",
    "    This represent number of product sold/bought\n",
    "    * Total Price\n",
    "    The Total Amount of the Product sold\n",
    "    "
   ]
  },
  {
   "cell_type": "code",
   "execution_count": 10,
   "id": "ab52a6e1",
   "metadata": {},
   "outputs": [],
   "source": [
    "from csv import reader"
   ]
  },
  {
   "cell_type": "code",
   "execution_count": 11,
   "id": "ab173a54",
   "metadata": {},
   "outputs": [
    {
     "data": {
      "text/plain": [
       "['ID',\n",
       " 'Date',\n",
       " 'Category',\n",
       " 'Invoice Number',\n",
       " 'Product Code',\n",
       " 'Customer Code',\n",
       " 'Destenation',\n",
       " 'QTY',\n",
       " 'Total Price']"
      ]
     },
     "execution_count": 11,
     "metadata": {},
     "output_type": "execute_result"
    }
   ],
   "source": [
    "open_csv = open('ExportSales.csv')\n",
    "read_csv = reader(open_csv)\n",
    "list_csv = list(read_csv)\n",
    "list_export_data = list_csv\n",
    "\n",
    "list_export_data[0]"
   ]
  },
  {
   "cell_type": "code",
   "execution_count": 12,
   "id": "1e926818",
   "metadata": {},
   "outputs": [],
   "source": [
    "#df.rename(columns = {'team':'team_name', 'points':'points_scored'}, inplace = True)\n",
    "export_data.rename(columns = {'Destenation': 'Destination'}, inplace = True)"
   ]
  },
  {
   "cell_type": "code",
   "execution_count": 13,
   "id": "8f25c3c0",
   "metadata": {},
   "outputs": [
    {
     "data": {
      "text/html": [
       "<div>\n",
       "<style scoped>\n",
       "    .dataframe tbody tr th:only-of-type {\n",
       "        vertical-align: middle;\n",
       "    }\n",
       "\n",
       "    .dataframe tbody tr th {\n",
       "        vertical-align: top;\n",
       "    }\n",
       "\n",
       "    .dataframe thead th {\n",
       "        text-align: right;\n",
       "    }\n",
       "</style>\n",
       "<table border=\"1\" class=\"dataframe\">\n",
       "  <thead>\n",
       "    <tr style=\"text-align: right;\">\n",
       "      <th></th>\n",
       "      <th>ID</th>\n",
       "      <th>Category</th>\n",
       "      <th>Invoice Number</th>\n",
       "      <th>Product Code</th>\n",
       "      <th>Customer Code</th>\n",
       "      <th>Destination</th>\n",
       "      <th>QTY</th>\n",
       "      <th>Total Price</th>\n",
       "    </tr>\n",
       "    <tr>\n",
       "      <th>Date</th>\n",
       "      <th></th>\n",
       "      <th></th>\n",
       "      <th></th>\n",
       "      <th></th>\n",
       "      <th></th>\n",
       "      <th></th>\n",
       "      <th></th>\n",
       "      <th></th>\n",
       "    </tr>\n",
       "  </thead>\n",
       "  <tbody>\n",
       "    <tr>\n",
       "      <th>2019-04-28</th>\n",
       "      <td>2529604</td>\n",
       "      <td>Category5</td>\n",
       "      <td>267</td>\n",
       "      <td>30011006</td>\n",
       "      <td>612</td>\n",
       "      <td>IRQ</td>\n",
       "      <td>750</td>\n",
       "      <td>3334.8225</td>\n",
       "    </tr>\n",
       "    <tr>\n",
       "      <th>2019-04-29</th>\n",
       "      <td>2529605</td>\n",
       "      <td>Category5</td>\n",
       "      <td>302</td>\n",
       "      <td>30011006</td>\n",
       "      <td>514</td>\n",
       "      <td>BHR</td>\n",
       "      <td>400</td>\n",
       "      <td>3032.8240</td>\n",
       "    </tr>\n",
       "    <tr>\n",
       "      <th>2019-05-13</th>\n",
       "      <td>2529606</td>\n",
       "      <td>Category5</td>\n",
       "      <td>507</td>\n",
       "      <td>30011006</td>\n",
       "      <td>513</td>\n",
       "      <td>BHR</td>\n",
       "      <td>100</td>\n",
       "      <td>749.9520</td>\n",
       "    </tr>\n",
       "    <tr>\n",
       "      <th>2019-06-01</th>\n",
       "      <td>2529607</td>\n",
       "      <td>Category5</td>\n",
       "      <td>795</td>\n",
       "      <td>30011006</td>\n",
       "      <td>5</td>\n",
       "      <td>SYC</td>\n",
       "      <td>100</td>\n",
       "      <td>556.8170</td>\n",
       "    </tr>\n",
       "    <tr>\n",
       "      <th>2019-07-03</th>\n",
       "      <td>2529608</td>\n",
       "      <td>Category5</td>\n",
       "      <td>1184</td>\n",
       "      <td>30011006</td>\n",
       "      <td>560</td>\n",
       "      <td>AFG</td>\n",
       "      <td>20</td>\n",
       "      <td>39.4460</td>\n",
       "    </tr>\n",
       "  </tbody>\n",
       "</table>\n",
       "</div>"
      ],
      "text/plain": [
       "                 ID   Category  Invoice Number  Product Code  Customer Code  \\\n",
       "Date                                                                          \n",
       "2019-04-28  2529604  Category5             267      30011006            612   \n",
       "2019-04-29  2529605  Category5             302      30011006            514   \n",
       "2019-05-13  2529606  Category5             507      30011006            513   \n",
       "2019-06-01  2529607  Category5             795      30011006              5   \n",
       "2019-07-03  2529608  Category5            1184      30011006            560   \n",
       "\n",
       "           Destination  QTY  Total Price  \n",
       "Date                                      \n",
       "2019-04-28         IRQ  750    3334.8225  \n",
       "2019-04-29         BHR  400    3032.8240  \n",
       "2019-05-13         BHR  100     749.9520  \n",
       "2019-06-01         SYC  100     556.8170  \n",
       "2019-07-03         AFG   20      39.4460  "
      ]
     },
     "execution_count": 13,
     "metadata": {},
     "output_type": "execute_result"
    }
   ],
   "source": [
    "export_data.head()"
   ]
  },
  {
   "cell_type": "markdown",
   "id": "c06bc062",
   "metadata": {},
   "source": [
    "#### We have renamed the Destenation to Destination"
   ]
  },
  {
   "cell_type": "markdown",
   "id": "8fd605fd",
   "metadata": {},
   "source": [
    "Let start by reviewing our \"Category\" columns, How many categories of items do we have"
   ]
  },
  {
   "cell_type": "code",
   "execution_count": 14,
   "id": "f57e5869",
   "metadata": {},
   "outputs": [
    {
     "data": {
      "text/plain": [
       "array(['Category5', 'Category6', 'Category4', 'Category3', 'Category8',\n",
       "       'Category7', 'Category2', 'Category1', 'Category9', 'Category10'],\n",
       "      dtype=object)"
      ]
     },
     "execution_count": 14,
     "metadata": {},
     "output_type": "execute_result"
    }
   ],
   "source": [
    "export_data[\"Category\"].unique()"
   ]
  },
  {
   "cell_type": "markdown",
   "id": "002bcaa9",
   "metadata": {},
   "source": [
    "#### We have 10 categories of exported sales\n"
   ]
  },
  {
   "cell_type": "markdown",
   "id": "8a3143b9",
   "metadata": {},
   "source": [
    "### Which Category has the most sales"
   ]
  },
  {
   "cell_type": "code",
   "execution_count": 15,
   "id": "cb032c12",
   "metadata": {},
   "outputs": [
    {
     "data": {
      "text/plain": [
       "Category4     3731\n",
       "Category7     1667\n",
       "Category8      869\n",
       "Category2      649\n",
       "Category6      454\n",
       "Category5      302\n",
       "Category9       54\n",
       "Category1       42\n",
       "Category3       39\n",
       "Category10       4\n",
       "Name: Category, dtype: int64"
      ]
     },
     "execution_count": 15,
     "metadata": {},
     "output_type": "execute_result"
    }
   ],
   "source": [
    "export_data[\"Category\"].value_counts()"
   ]
  },
  {
   "cell_type": "markdown",
   "id": "921e4ede",
   "metadata": {},
   "source": [
    "#### The 4TH category has the most sales of 3731\n",
    "\n",
    "#### The 10TH category has the least sales of 4"
   ]
  },
  {
   "cell_type": "markdown",
   "id": "a13c93b6",
   "metadata": {},
   "source": [
    "### Lets create a new column to our data set. The \"Year\" column. This Only include the year of the Export sales.\n"
   ]
  },
  {
   "cell_type": "code",
   "execution_count": 16,
   "id": "3b224a05",
   "metadata": {},
   "outputs": [
    {
     "data": {
      "text/plain": [
       "Index(['2019-04-28', '2019-04-29', '2019-05-13', '2019-06-01', '2019-07-03',\n",
       "       '2019-07-28', '2019-07-28', '2019-10-02', '2019-10-02', '2019-10-12',\n",
       "       ...\n",
       "       '2022-09-14', '2022-09-14', '2022-09-14', '2022-09-14', '2022-09-14',\n",
       "       '2022-09-14', '2022-09-14', '2022-09-19', '2022-09-19', '2022-09-19'],\n",
       "      dtype='object', name='Date', length=7811)"
      ]
     },
     "execution_count": 16,
     "metadata": {},
     "output_type": "execute_result"
    }
   ],
   "source": [
    "export_data.index"
   ]
  },
  {
   "cell_type": "code",
   "execution_count": 17,
   "id": "da7736f6",
   "metadata": {},
   "outputs": [],
   "source": [
    "export_data['Year'] = export_data.index.str[0:4]"
   ]
  },
  {
   "cell_type": "code",
   "execution_count": 18,
   "id": "91fcfd0b",
   "metadata": {
    "scrolled": true
   },
   "outputs": [
    {
     "data": {
      "text/html": [
       "<div>\n",
       "<style scoped>\n",
       "    .dataframe tbody tr th:only-of-type {\n",
       "        vertical-align: middle;\n",
       "    }\n",
       "\n",
       "    .dataframe tbody tr th {\n",
       "        vertical-align: top;\n",
       "    }\n",
       "\n",
       "    .dataframe thead th {\n",
       "        text-align: right;\n",
       "    }\n",
       "</style>\n",
       "<table border=\"1\" class=\"dataframe\">\n",
       "  <thead>\n",
       "    <tr style=\"text-align: right;\">\n",
       "      <th></th>\n",
       "      <th>ID</th>\n",
       "      <th>Category</th>\n",
       "      <th>Invoice Number</th>\n",
       "      <th>Product Code</th>\n",
       "      <th>Customer Code</th>\n",
       "      <th>Destination</th>\n",
       "      <th>QTY</th>\n",
       "      <th>Total Price</th>\n",
       "      <th>Year</th>\n",
       "    </tr>\n",
       "    <tr>\n",
       "      <th>Date</th>\n",
       "      <th></th>\n",
       "      <th></th>\n",
       "      <th></th>\n",
       "      <th></th>\n",
       "      <th></th>\n",
       "      <th></th>\n",
       "      <th></th>\n",
       "      <th></th>\n",
       "      <th></th>\n",
       "    </tr>\n",
       "  </thead>\n",
       "  <tbody>\n",
       "    <tr>\n",
       "      <th>2019-04-28</th>\n",
       "      <td>2529604</td>\n",
       "      <td>Category5</td>\n",
       "      <td>267</td>\n",
       "      <td>30011006</td>\n",
       "      <td>612</td>\n",
       "      <td>IRQ</td>\n",
       "      <td>750</td>\n",
       "      <td>3334.8225</td>\n",
       "      <td>2019</td>\n",
       "    </tr>\n",
       "    <tr>\n",
       "      <th>2019-04-29</th>\n",
       "      <td>2529605</td>\n",
       "      <td>Category5</td>\n",
       "      <td>302</td>\n",
       "      <td>30011006</td>\n",
       "      <td>514</td>\n",
       "      <td>BHR</td>\n",
       "      <td>400</td>\n",
       "      <td>3032.8240</td>\n",
       "      <td>2019</td>\n",
       "    </tr>\n",
       "    <tr>\n",
       "      <th>2019-05-13</th>\n",
       "      <td>2529606</td>\n",
       "      <td>Category5</td>\n",
       "      <td>507</td>\n",
       "      <td>30011006</td>\n",
       "      <td>513</td>\n",
       "      <td>BHR</td>\n",
       "      <td>100</td>\n",
       "      <td>749.9520</td>\n",
       "      <td>2019</td>\n",
       "    </tr>\n",
       "    <tr>\n",
       "      <th>2019-06-01</th>\n",
       "      <td>2529607</td>\n",
       "      <td>Category5</td>\n",
       "      <td>795</td>\n",
       "      <td>30011006</td>\n",
       "      <td>5</td>\n",
       "      <td>SYC</td>\n",
       "      <td>100</td>\n",
       "      <td>556.8170</td>\n",
       "      <td>2019</td>\n",
       "    </tr>\n",
       "    <tr>\n",
       "      <th>2019-07-03</th>\n",
       "      <td>2529608</td>\n",
       "      <td>Category5</td>\n",
       "      <td>1184</td>\n",
       "      <td>30011006</td>\n",
       "      <td>560</td>\n",
       "      <td>AFG</td>\n",
       "      <td>20</td>\n",
       "      <td>39.4460</td>\n",
       "      <td>2019</td>\n",
       "    </tr>\n",
       "  </tbody>\n",
       "</table>\n",
       "</div>"
      ],
      "text/plain": [
       "                 ID   Category  Invoice Number  Product Code  Customer Code  \\\n",
       "Date                                                                          \n",
       "2019-04-28  2529604  Category5             267      30011006            612   \n",
       "2019-04-29  2529605  Category5             302      30011006            514   \n",
       "2019-05-13  2529606  Category5             507      30011006            513   \n",
       "2019-06-01  2529607  Category5             795      30011006              5   \n",
       "2019-07-03  2529608  Category5            1184      30011006            560   \n",
       "\n",
       "           Destination  QTY  Total Price  Year  \n",
       "Date                                            \n",
       "2019-04-28         IRQ  750    3334.8225  2019  \n",
       "2019-04-29         BHR  400    3032.8240  2019  \n",
       "2019-05-13         BHR  100     749.9520  2019  \n",
       "2019-06-01         SYC  100     556.8170  2019  \n",
       "2019-07-03         AFG   20      39.4460  2019  "
      ]
     },
     "execution_count": 18,
     "metadata": {},
     "output_type": "execute_result"
    }
   ],
   "source": [
    "export_data.head()"
   ]
  },
  {
   "cell_type": "code",
   "execution_count": 19,
   "id": "db473156",
   "metadata": {},
   "outputs": [],
   "source": [
    "# shift column 'Year' to first position\n",
    "first_column = export_data.pop('Year')\n",
    "\n"
   ]
  },
  {
   "cell_type": "code",
   "execution_count": 20,
   "id": "29350b54",
   "metadata": {},
   "outputs": [],
   "source": [
    "# insert column using insert(position,column_name,\n",
    "# first_column) function\n",
    "export_data.insert(0, 'Year', first_column)"
   ]
  },
  {
   "cell_type": "code",
   "execution_count": 21,
   "id": "83aaafaa",
   "metadata": {},
   "outputs": [
    {
     "data": {
      "text/html": [
       "<div>\n",
       "<style scoped>\n",
       "    .dataframe tbody tr th:only-of-type {\n",
       "        vertical-align: middle;\n",
       "    }\n",
       "\n",
       "    .dataframe tbody tr th {\n",
       "        vertical-align: top;\n",
       "    }\n",
       "\n",
       "    .dataframe thead th {\n",
       "        text-align: right;\n",
       "    }\n",
       "</style>\n",
       "<table border=\"1\" class=\"dataframe\">\n",
       "  <thead>\n",
       "    <tr style=\"text-align: right;\">\n",
       "      <th></th>\n",
       "      <th>Year</th>\n",
       "      <th>ID</th>\n",
       "      <th>Category</th>\n",
       "      <th>Invoice Number</th>\n",
       "      <th>Product Code</th>\n",
       "      <th>Customer Code</th>\n",
       "      <th>Destination</th>\n",
       "      <th>QTY</th>\n",
       "      <th>Total Price</th>\n",
       "    </tr>\n",
       "    <tr>\n",
       "      <th>Date</th>\n",
       "      <th></th>\n",
       "      <th></th>\n",
       "      <th></th>\n",
       "      <th></th>\n",
       "      <th></th>\n",
       "      <th></th>\n",
       "      <th></th>\n",
       "      <th></th>\n",
       "      <th></th>\n",
       "    </tr>\n",
       "  </thead>\n",
       "  <tbody>\n",
       "    <tr>\n",
       "      <th>2019-04-28</th>\n",
       "      <td>2019</td>\n",
       "      <td>2529604</td>\n",
       "      <td>Category5</td>\n",
       "      <td>267</td>\n",
       "      <td>30011006</td>\n",
       "      <td>612</td>\n",
       "      <td>IRQ</td>\n",
       "      <td>750</td>\n",
       "      <td>3334.8225</td>\n",
       "    </tr>\n",
       "    <tr>\n",
       "      <th>2019-04-29</th>\n",
       "      <td>2019</td>\n",
       "      <td>2529605</td>\n",
       "      <td>Category5</td>\n",
       "      <td>302</td>\n",
       "      <td>30011006</td>\n",
       "      <td>514</td>\n",
       "      <td>BHR</td>\n",
       "      <td>400</td>\n",
       "      <td>3032.8240</td>\n",
       "    </tr>\n",
       "    <tr>\n",
       "      <th>2019-05-13</th>\n",
       "      <td>2019</td>\n",
       "      <td>2529606</td>\n",
       "      <td>Category5</td>\n",
       "      <td>507</td>\n",
       "      <td>30011006</td>\n",
       "      <td>513</td>\n",
       "      <td>BHR</td>\n",
       "      <td>100</td>\n",
       "      <td>749.9520</td>\n",
       "    </tr>\n",
       "    <tr>\n",
       "      <th>2019-06-01</th>\n",
       "      <td>2019</td>\n",
       "      <td>2529607</td>\n",
       "      <td>Category5</td>\n",
       "      <td>795</td>\n",
       "      <td>30011006</td>\n",
       "      <td>5</td>\n",
       "      <td>SYC</td>\n",
       "      <td>100</td>\n",
       "      <td>556.8170</td>\n",
       "    </tr>\n",
       "    <tr>\n",
       "      <th>2019-07-03</th>\n",
       "      <td>2019</td>\n",
       "      <td>2529608</td>\n",
       "      <td>Category5</td>\n",
       "      <td>1184</td>\n",
       "      <td>30011006</td>\n",
       "      <td>560</td>\n",
       "      <td>AFG</td>\n",
       "      <td>20</td>\n",
       "      <td>39.4460</td>\n",
       "    </tr>\n",
       "  </tbody>\n",
       "</table>\n",
       "</div>"
      ],
      "text/plain": [
       "            Year       ID   Category  Invoice Number  Product Code  \\\n",
       "Date                                                                 \n",
       "2019-04-28  2019  2529604  Category5             267      30011006   \n",
       "2019-04-29  2019  2529605  Category5             302      30011006   \n",
       "2019-05-13  2019  2529606  Category5             507      30011006   \n",
       "2019-06-01  2019  2529607  Category5             795      30011006   \n",
       "2019-07-03  2019  2529608  Category5            1184      30011006   \n",
       "\n",
       "            Customer Code Destination  QTY  Total Price  \n",
       "Date                                                     \n",
       "2019-04-28            612         IRQ  750    3334.8225  \n",
       "2019-04-29            514         BHR  400    3032.8240  \n",
       "2019-05-13            513         BHR  100     749.9520  \n",
       "2019-06-01              5         SYC  100     556.8170  \n",
       "2019-07-03            560         AFG   20      39.4460  "
      ]
     },
     "execution_count": 21,
     "metadata": {},
     "output_type": "execute_result"
    }
   ],
   "source": [
    "export_data.head()"
   ]
  },
  {
   "cell_type": "markdown",
   "id": "bc250ffb",
   "metadata": {},
   "source": [
    "Now, Our New column head is now created. Lets see which year had more sales"
   ]
  },
  {
   "cell_type": "code",
   "execution_count": 22,
   "id": "79c8eea3",
   "metadata": {},
   "outputs": [
    {
     "data": {
      "text/plain": [
       "array(['2019', '2020', '2021', '2022'], dtype=object)"
      ]
     },
     "execution_count": 22,
     "metadata": {},
     "output_type": "execute_result"
    }
   ],
   "source": [
    "export_data[\"Year\"].unique()"
   ]
  },
  {
   "cell_type": "markdown",
   "id": "8bc3a0b7",
   "metadata": {},
   "source": [
    "We have four years range from 2019 to 2022"
   ]
  },
  {
   "cell_type": "code",
   "execution_count": 24,
   "id": "ef50e796",
   "metadata": {},
   "outputs": [
    {
     "data": {
      "text/plain": [
       "2021    3054\n",
       "2022    2572\n",
       "2020    1249\n",
       "2019     936\n",
       "Name: Year, dtype: int64"
      ]
     },
     "execution_count": 24,
     "metadata": {},
     "output_type": "execute_result"
    }
   ],
   "source": [
    "export_data[\"Year\"].value_counts()"
   ]
  },
  {
   "cell_type": "markdown",
   "id": "869f0c80",
   "metadata": {},
   "source": [
    "We Had more sales in the Year 2021"
   ]
  },
  {
   "cell_type": "markdown",
   "id": "b73f685f",
   "metadata": {},
   "source": [
    "### NOW SEE HOW MANY COUNTRIES WERE THE SALES EXPORTED TO IN THE DESTINATION COLUMN"
   ]
  },
  {
   "cell_type": "code",
   "execution_count": 29,
   "id": "f4efa1b5",
   "metadata": {},
   "outputs": [
    {
     "data": {
      "text/plain": [
       "array(['IRQ', 'BHR', 'SYC', 'AFG', 'AZE', 'PAK', 'UAE', 'QAT', 'RUS',\n",
       "       'DEU', 'LKA', 'KEN', 'AUS', 'TKM', 'KWT', 'ZAF', 'CAN', 'MYS',\n",
       "       'DJI', 'CHN', 'NLD', 'OMN', 'LBN', 'MUS', 'ROU', 'FIN', nan, 'MDV',\n",
       "       'SWE', 'UKR', 'KGZ'], dtype=object)"
      ]
     },
     "execution_count": 29,
     "metadata": {},
     "output_type": "execute_result"
    }
   ],
   "source": [
    "export_data['Destination'].unique()"
   ]
  },
  {
   "cell_type": "markdown",
   "id": "e42f0d7b",
   "metadata": {},
   "source": [
    "#### WE have null (nan) values in the Destination Column. It is Best We replace the NaN with \"Unknown\" Destination So That we can better understand that the destination for that sale is unknown or not recorded during the transaction"
   ]
  },
  {
   "cell_type": "code",
   "execution_count": 33,
   "id": "3fcfa94e",
   "metadata": {},
   "outputs": [],
   "source": [
    "export_data[\"Destination\"].fillna(\"Unknown\", inplace = True)"
   ]
  },
  {
   "cell_type": "markdown",
   "id": "afe3287f",
   "metadata": {},
   "source": [
    "Now we check if we still have Nan Values"
   ]
  },
  {
   "cell_type": "code",
   "execution_count": 40,
   "id": "0b9f0cf0",
   "metadata": {},
   "outputs": [
    {
     "data": {
      "text/plain": [
       "array(['IRQ', 'BHR', 'SYC', 'AFG', 'AZE', 'PAK', 'UAE', 'QAT', 'RUS',\n",
       "       'DEU', 'LKA', 'KEN', 'AUS', 'TKM', 'KWT', 'ZAF', 'CAN', 'MYS',\n",
       "       'DJI', 'CHN', 'NLD', 'OMN', 'LBN', 'MUS', 'ROU', 'FIN', 'Unknown',\n",
       "       'MDV', 'SWE', 'UKR', 'KGZ'], dtype=object)"
      ]
     },
     "execution_count": 40,
     "metadata": {},
     "output_type": "execute_result"
    }
   ],
   "source": [
    "export_data['Destination'].unique()"
   ]
  },
  {
   "cell_type": "code",
   "execution_count": 46,
   "id": "3bcedfa3",
   "metadata": {},
   "outputs": [
    {
     "data": {
      "text/plain": [
       "31"
      ]
     },
     "execution_count": 46,
     "metadata": {},
     "output_type": "execute_result"
    }
   ],
   "source": [
    "countries = export_data['Destination'].unique()\n",
    "len(countries)"
   ]
  },
  {
   "cell_type": "markdown",
   "id": "aae319d0",
   "metadata": {},
   "source": [
    "### Now, We know that we Have 30 countries as the export sales destination and unknown countries too "
   ]
  },
  {
   "cell_type": "markdown",
   "id": "12a0ca02",
   "metadata": {},
   "source": [
    "We now want to know the countries the highest and lowest number of export sales according to the data "
   ]
  },
  {
   "cell_type": "code",
   "execution_count": 47,
   "id": "1e69603f",
   "metadata": {},
   "outputs": [
    {
     "data": {
      "text/plain": [
       "IRQ        4441\n",
       "BHR         479\n",
       "PAK         424\n",
       "AZE         400\n",
       "AFG         351\n",
       "OMN         291\n",
       "UAE         248\n",
       "AUS         160\n",
       "TKM         134\n",
       "KWT         119\n",
       "Unknown     110\n",
       "RUS          82\n",
       "DEU          77\n",
       "SYC          65\n",
       "FIN          61\n",
       "LBN          56\n",
       "MYS          51\n",
       "CAN          34\n",
       "ZAF          32\n",
       "UKR          28\n",
       "CHN          26\n",
       "NLD          26\n",
       "LKA          26\n",
       "DJI          24\n",
       "ROU          21\n",
       "QAT          16\n",
       "KGZ          11\n",
       "KEN          10\n",
       "MUS           4\n",
       "MDV           3\n",
       "SWE           1\n",
       "Name: Destination, dtype: int64"
      ]
     },
     "execution_count": 47,
     "metadata": {},
     "output_type": "execute_result"
    }
   ],
   "source": [
    "export_data['Destination'].value_counts()"
   ]
  },
  {
   "cell_type": "markdown",
   "id": "60a7bf82",
   "metadata": {},
   "source": [
    "### IRQ (Iraq) has the highest number of Sales Exportation of 4441 sales\n",
    "### While SWE (Sweden) has the lower number of Sales Exportation of 1 sale\n",
    "\n",
    "### Morealso, 110 Product sales were exported to Unknown countries"
   ]
  },
  {
   "cell_type": "markdown",
   "id": "0285abaf",
   "metadata": {},
   "source": [
    "Which country Ordered the most Quantity"
   ]
  },
  {
   "cell_type": "code",
   "execution_count": 51,
   "id": "629335e3",
   "metadata": {},
   "outputs": [
    {
     "data": {
      "text/plain": [
       "5586"
      ]
     },
     "execution_count": 51,
     "metadata": {},
     "output_type": "execute_result"
    }
   ],
   "source": [
    "export_data[\"QTY\"].max()"
   ]
  },
  {
   "cell_type": "code",
   "execution_count": 52,
   "id": "a935396e",
   "metadata": {},
   "outputs": [
    {
     "data": {
      "text/html": [
       "<div>\n",
       "<style scoped>\n",
       "    .dataframe tbody tr th:only-of-type {\n",
       "        vertical-align: middle;\n",
       "    }\n",
       "\n",
       "    .dataframe tbody tr th {\n",
       "        vertical-align: top;\n",
       "    }\n",
       "\n",
       "    .dataframe thead th {\n",
       "        text-align: right;\n",
       "    }\n",
       "</style>\n",
       "<table border=\"1\" class=\"dataframe\">\n",
       "  <thead>\n",
       "    <tr style=\"text-align: right;\">\n",
       "      <th></th>\n",
       "      <th>Year</th>\n",
       "      <th>ID</th>\n",
       "      <th>Category</th>\n",
       "      <th>Invoice Number</th>\n",
       "      <th>Product Code</th>\n",
       "      <th>Customer Code</th>\n",
       "      <th>Destination</th>\n",
       "      <th>QTY</th>\n",
       "      <th>Total Price</th>\n",
       "    </tr>\n",
       "    <tr>\n",
       "      <th>Date</th>\n",
       "      <th></th>\n",
       "      <th></th>\n",
       "      <th></th>\n",
       "      <th></th>\n",
       "      <th></th>\n",
       "      <th></th>\n",
       "      <th></th>\n",
       "      <th></th>\n",
       "      <th></th>\n",
       "    </tr>\n",
       "  </thead>\n",
       "  <tbody>\n",
       "    <tr>\n",
       "      <th>2022-06-19</th>\n",
       "      <td>2022</td>\n",
       "      <td>2536507</td>\n",
       "      <td>Category7</td>\n",
       "      <td>89</td>\n",
       "      <td>30006003</td>\n",
       "      <td>603</td>\n",
       "      <td>AZE</td>\n",
       "      <td>5586</td>\n",
       "      <td>38369.1168</td>\n",
       "    </tr>\n",
       "  </tbody>\n",
       "</table>\n",
       "</div>"
      ],
      "text/plain": [
       "            Year       ID   Category  Invoice Number  Product Code  \\\n",
       "Date                                                                 \n",
       "2022-06-19  2022  2536507  Category7              89      30006003   \n",
       "\n",
       "            Customer Code Destination   QTY  Total Price  \n",
       "Date                                                      \n",
       "2022-06-19            603         AZE  5586   38369.1168  "
      ]
     },
     "execution_count": 52,
     "metadata": {},
     "output_type": "execute_result"
    }
   ],
   "source": [
    "export_data[export_data[\"QTY\"] == 5586]"
   ]
  },
  {
   "cell_type": "markdown",
   "id": "676196ff",
   "metadata": {},
   "source": [
    "AZE (Azerbaijan) Purchased the most quantity of a product"
   ]
  },
  {
   "cell_type": "markdown",
   "id": "47fa3e3e",
   "metadata": {},
   "source": [
    "Which Country Has the highest total price"
   ]
  },
  {
   "cell_type": "code",
   "execution_count": 54,
   "id": "b983ccf2",
   "metadata": {},
   "outputs": [
    {
     "data": {
      "text/plain": [
       "77532.0"
      ]
     },
     "execution_count": 54,
     "metadata": {},
     "output_type": "execute_result"
    }
   ],
   "source": [
    "export_data['Total Price'].max()"
   ]
  },
  {
   "cell_type": "code",
   "execution_count": 55,
   "id": "98c37434",
   "metadata": {},
   "outputs": [
    {
     "data": {
      "text/html": [
       "<div>\n",
       "<style scoped>\n",
       "    .dataframe tbody tr th:only-of-type {\n",
       "        vertical-align: middle;\n",
       "    }\n",
       "\n",
       "    .dataframe tbody tr th {\n",
       "        vertical-align: top;\n",
       "    }\n",
       "\n",
       "    .dataframe thead th {\n",
       "        text-align: right;\n",
       "    }\n",
       "</style>\n",
       "<table border=\"1\" class=\"dataframe\">\n",
       "  <thead>\n",
       "    <tr style=\"text-align: right;\">\n",
       "      <th></th>\n",
       "      <th>Year</th>\n",
       "      <th>ID</th>\n",
       "      <th>Category</th>\n",
       "      <th>Invoice Number</th>\n",
       "      <th>Product Code</th>\n",
       "      <th>Customer Code</th>\n",
       "      <th>Destination</th>\n",
       "      <th>QTY</th>\n",
       "      <th>Total Price</th>\n",
       "    </tr>\n",
       "    <tr>\n",
       "      <th>Date</th>\n",
       "      <th></th>\n",
       "      <th></th>\n",
       "      <th></th>\n",
       "      <th></th>\n",
       "      <th></th>\n",
       "      <th></th>\n",
       "      <th></th>\n",
       "      <th></th>\n",
       "      <th></th>\n",
       "    </tr>\n",
       "  </thead>\n",
       "  <tbody>\n",
       "    <tr>\n",
       "      <th>2022-05-31</th>\n",
       "      <td>2022</td>\n",
       "      <td>2536353</td>\n",
       "      <td>Category4</td>\n",
       "      <td>62</td>\n",
       "      <td>30001350</td>\n",
       "      <td>33</td>\n",
       "      <td>ROU</td>\n",
       "      <td>3500</td>\n",
       "      <td>77532.0</td>\n",
       "    </tr>\n",
       "  </tbody>\n",
       "</table>\n",
       "</div>"
      ],
      "text/plain": [
       "            Year       ID   Category  Invoice Number  Product Code  \\\n",
       "Date                                                                 \n",
       "2022-05-31  2022  2536353  Category4              62      30001350   \n",
       "\n",
       "            Customer Code Destination   QTY  Total Price  \n",
       "Date                                                      \n",
       "2022-05-31             33         ROU  3500      77532.0  "
      ]
     },
     "execution_count": 55,
     "metadata": {},
     "output_type": "execute_result"
    }
   ],
   "source": [
    "export_data[export_data[\"Total Price\"] == 77532.0]"
   ]
  },
  {
   "cell_type": "markdown",
   "id": "9c8914be",
   "metadata": {},
   "source": [
    "ROU (Romania) Has the highest Total price"
   ]
  },
  {
   "cell_type": "code",
   "execution_count": 73,
   "id": "77ab439b",
   "metadata": {},
   "outputs": [
    {
     "data": {
      "image/png": "[encoded data removed]",
      "text/plain": [
       "<Figure size 720x720 with 1 Axes>"
      ]
     },
     "metadata": {
      "needs_background": "light"
     },
     "output_type": "display_data"
    }
   ],
   "source": [
    "Destination =  export_data['Destination'].value_counts().plot(kind = 'barh', figsize=(10, 10))\n"
   ]
  },
  {
   "cell_type": "code",
   "execution_count": null,
   "id": "8b1ff096",
   "metadata": {},
   "outputs": [],
   "source": []
  }
 ],
 "metadata": {
  "kernelspec": {
   "display_name": "Python 3 (ipykernel)",
   "language": "python",
   "name": "python3"
  },
  "language_info": {
   "codemirror_mode": {
    "name": "ipython",
    "version": 3
   },
   "file_extension": ".py",
   "mimetype": "text/x-python",
   "name": "python",
   "nbconvert_exporter": "python",
   "pygments_lexer": "ipython3",
   "version": "3.9.12"
  }
 },
 "nbformat": 4,
 "nbformat_minor": 5
}
